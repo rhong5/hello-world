{
 "cells": [
  {
   "cell_type": "markdown",
   "metadata": {},
   "source": [
    "## Dogs Versus Cats\n",
    "\n",
    "### This is my first attempt at creating a CNN architecture that classifies an image of a dog or a cat.\n",
    "\n",
    "Tutorial inspired from Chollet's Intro to Keras\n",
    "\n"
   ]
  },
  {
   "cell_type": "markdown",
   "metadata": {},
   "source": [
    "The DogVsCat dataset can be downloaded from https://www.kaggle.com/darthmanav/dog-vs-cat-classification-using-cnn\n",
    "\n",
    "Once imported to your working directory, a seperate folder consisting of training and test images must be made. Furthermore, within both directories, there must be dog and cat directories. This setup helps with the data augmentation implementation."
   ]
  },
  {
   "cell_type": "code",
   "execution_count": 1,
   "metadata": {},
   "outputs": [
    {
     "name": "stdout",
     "output_type": "stream",
     "text": [
      "total training cat images:  1000\n",
      "total training dog images:  1000\n",
      "total validation cat images:  500\n",
      "total validation dog images:  500\n",
      "total test cat images:  500\n",
      "total test dog images:  500\n"
     ]
    }
   ],
   "source": [
    "import os\n",
    "import shutil\n",
    "\n",
    "# Define the directory that contains the entire dataset.\n",
    "original_dataset_dir = '/home/raymond/Documents/Personal_Projects/Neural_Networks/DogsVsCats/dataset'\n",
    "\n",
    "# We will create the base directory in which we will organize our data to use. \n",
    "base_dir = '/home/raymond/Documents/Personal_Projects/Neural_Networks/DogsVsCats/dataset_small'\n",
    "os.mkdir(base_dir)\n",
    "\n",
    "# Create the 'train' directory in the base directory.\n",
    "train_dir = os.path.join(base_dir, 'train')\n",
    "os.mkdir(train_dir)\n",
    "\n",
    "# Create the 'validation' directory in the base directory.\n",
    "validation_dir = os.path.join(base_dir, 'validation')\n",
    "os.mkdir(validation_dir)\n",
    "\n",
    "# Create the 'test' directory in the base directory.\n",
    "test_dir = os.path.join(base_dir, 'test')\n",
    "os.mkdir(test_dir)\n",
    "\n",
    "# Create the 'cat' directory in the train directory.\n",
    "train_cats_dir = os.path.join(train_dir, 'cats')\n",
    "os.mkdir(train_cats_dir)\n",
    "\n",
    "# Create the 'dogs' directory in the train directory.\n",
    "train_dogs_dir = os.path.join(train_dir, 'dogs')\n",
    "os.mkdir(train_dogs_dir)\n",
    "\n",
    "# Create the 'cats' directory in the 'validation' directory.\n",
    "validation_cats_dir = os.path.join(validation_dir, 'cats')\n",
    "os.mkdir(validation_cats_dir)\n",
    "\n",
    "# Create the 'dogs' directory in the 'validation' directory.\n",
    "validation_dogs_dir = os.path.join(validation_dir, 'dogs')\n",
    "os.mkdir(validation_dogs_dir)\n",
    "\n",
    "# Create the 'cats' directory in the'test' directory\n",
    "test_cats_dir = os.path.join(test_dir, 'cats')\n",
    "os.mkdir(test_cats_dir)\n",
    "\n",
    "# Create the 'dogs' directory in the 'test' directory\n",
    "test_dogs_dir = os.path.join(test_dir, 'dogs')\n",
    "os.mkdir(test_dogs_dir)\n",
    "\n",
    "# From the original dataset, copy the first 1000 cat images into the 'train' directory\n",
    "fnames = ['cat.{}.jpg'.format(i) for i in range(1000)]\n",
    "for fname in fnames:\n",
    "    src = os.path.join(original_dataset_dir, fname)\n",
    "    dst = os.path.join(train_cats_dir, fname)\n",
    "    shutil.copyfile(src, dst)\n",
    "\n",
    "# From the original dataset, copy the cat images 1000-1500 into the 'validation' directory\n",
    "fnames = ['cat.{}.jpg'.format(i) for i in range(1000,1500)]\n",
    "for fname in fnames:\n",
    "    src = os.path.join(original_dataset_dir, fname)\n",
    "    dst = os.path.join(validation_cats_dir, fname)\n",
    "    shutil.copyfile(src, dst)\n",
    "\n",
    "# From the original dataset, copy the cat images 1500-2000 into the 'test' directory\n",
    "fnames = ['cat.{}.jpg'.format(i) for i in range(1500, 2000)]\n",
    "for fname in fnames:\n",
    "    src = os.path.join(original_dataset_dir, fname)\n",
    "    dst = os.path.join(test_cats_dir, fname)\n",
    "    shutil.copyfile(src,dst)\n",
    "\n",
    "# From the original dataset, copy the first 1000 dog images into the 'train' directory \n",
    "fnames = ['dog.{}.jpg'.format(i) for i in range(1000)]\n",
    "for fname in fnames:\n",
    "    src = os.path.join(original_dataset_dir, fname)\n",
    "    dst = os.path.join(train_dogs_dir, fname)\n",
    "    shutil.copyfile(src, dst)\n",
    "\n",
    "# From the original dataset, copy the dog images 1000-1500 into the 'validation' directory\n",
    "fnames = ['dog.{}.jpg'.format(i) for i in range(1000,1500)]\n",
    "for fname in fnames:\n",
    "    src = os.path.join(original_dataset_dir, fname)\n",
    "    dst = os.path.join(validation_dogs_dir, fname)\n",
    "    shutil.copyfile(src, dst)\n",
    "\n",
    "# From the original dataset, copy the dog images 1500-2000 into the 'validation' directory\n",
    "fnames = ['dog.{}.jpg'.format(i) for i in range(1500, 2000)]\n",
    "for fname in fnames:\n",
    "    src = os.path.join(original_dataset_dir, fname)\n",
    "    dst = os.path.join(test_dogs_dir, fname)\n",
    "    shutil.copyfile(src,dst)\n",
    "    \n",
    "# Print the total images in each directory\n",
    "print('total training cat images: ', len(os.listdir(train_cats_dir)))\n",
    "print('total training dog images: ', len(os.listdir(train_dogs_dir)))\n",
    "print('total validation cat images: ', len(os.listdir(validation_cats_dir)))\n",
    "print('total validation dog images: ', len(os.listdir(validation_dogs_dir)))\n",
    "print('total test cat images: ', len(os.listdir(test_cats_dir)))\n",
    "print('total test dog images: ', len(os.listdir(test_dogs_dir)))"
   ]
  },
  {
   "cell_type": "markdown",
   "metadata": {},
   "source": [
    "## Create the CNN architecture\n",
    "\n",
    "One can create a neural network using an ordinary dense neural network, meaning without the use of convolutional filters or pooling. CNN's perform better as they focus on segments in an image, and based on a certain collection of them, is able to conclude what class the image belongs too. Dense neural networks pays attention to the entirety of the image as a whole, meaning it globally looks for patterns. Hence CNN is better used for image classification\n",
    "\n",
    "My model consists of Conv2D and MaxPooling2D layers, that increase in the number of filters. Images are 3 channeled, 150x150, which is the input shape. \n",
    "Since there is only 2 classes, we are able to use the sigmoid function in the last layer. "
   ]
  },
  {
   "cell_type": "code",
   "execution_count": 2,
   "metadata": {},
   "outputs": [
    {
     "name": "stderr",
     "output_type": "stream",
     "text": [
      "Using TensorFlow backend.\n",
      "/home/raymond/anaconda3/lib/python3.7/site-packages/tensorflow/python/framework/dtypes.py:516: FutureWarning: Passing (type, 1) or '1type' as a synonym of type is deprecated; in a future version of numpy, it will be understood as (type, (1,)) / '(1,)type'.\n",
      "  _np_qint8 = np.dtype([(\"qint8\", np.int8, 1)])\n",
      "/home/raymond/anaconda3/lib/python3.7/site-packages/tensorflow/python/framework/dtypes.py:517: FutureWarning: Passing (type, 1) or '1type' as a synonym of type is deprecated; in a future version of numpy, it will be understood as (type, (1,)) / '(1,)type'.\n",
      "  _np_quint8 = np.dtype([(\"quint8\", np.uint8, 1)])\n",
      "/home/raymond/anaconda3/lib/python3.7/site-packages/tensorflow/python/framework/dtypes.py:518: FutureWarning: Passing (type, 1) or '1type' as a synonym of type is deprecated; in a future version of numpy, it will be understood as (type, (1,)) / '(1,)type'.\n",
      "  _np_qint16 = np.dtype([(\"qint16\", np.int16, 1)])\n",
      "/home/raymond/anaconda3/lib/python3.7/site-packages/tensorflow/python/framework/dtypes.py:519: FutureWarning: Passing (type, 1) or '1type' as a synonym of type is deprecated; in a future version of numpy, it will be understood as (type, (1,)) / '(1,)type'.\n",
      "  _np_quint16 = np.dtype([(\"quint16\", np.uint16, 1)])\n",
      "/home/raymond/anaconda3/lib/python3.7/site-packages/tensorflow/python/framework/dtypes.py:520: FutureWarning: Passing (type, 1) or '1type' as a synonym of type is deprecated; in a future version of numpy, it will be understood as (type, (1,)) / '(1,)type'.\n",
      "  _np_qint32 = np.dtype([(\"qint32\", np.int32, 1)])\n",
      "/home/raymond/anaconda3/lib/python3.7/site-packages/tensorflow/python/framework/dtypes.py:525: FutureWarning: Passing (type, 1) or '1type' as a synonym of type is deprecated; in a future version of numpy, it will be understood as (type, (1,)) / '(1,)type'.\n",
      "  np_resource = np.dtype([(\"resource\", np.ubyte, 1)])\n"
     ]
    },
    {
     "name": "stdout",
     "output_type": "stream",
     "text": [
      "WARNING:tensorflow:From /home/raymond/anaconda3/lib/python3.7/site-packages/keras/backend/tensorflow_backend.py:4070: The name tf.nn.max_pool is deprecated. Please use tf.nn.max_pool2d instead.\n",
      "\n"
     ]
    },
    {
     "name": "stderr",
     "output_type": "stream",
     "text": [
      "/home/raymond/anaconda3/lib/python3.7/site-packages/tensorboard/compat/tensorflow_stub/dtypes.py:541: FutureWarning: Passing (type, 1) or '1type' as a synonym of type is deprecated; in a future version of numpy, it will be understood as (type, (1,)) / '(1,)type'.\n",
      "  _np_qint8 = np.dtype([(\"qint8\", np.int8, 1)])\n",
      "/home/raymond/anaconda3/lib/python3.7/site-packages/tensorboard/compat/tensorflow_stub/dtypes.py:542: FutureWarning: Passing (type, 1) or '1type' as a synonym of type is deprecated; in a future version of numpy, it will be understood as (type, (1,)) / '(1,)type'.\n",
      "  _np_quint8 = np.dtype([(\"quint8\", np.uint8, 1)])\n",
      "/home/raymond/anaconda3/lib/python3.7/site-packages/tensorboard/compat/tensorflow_stub/dtypes.py:543: FutureWarning: Passing (type, 1) or '1type' as a synonym of type is deprecated; in a future version of numpy, it will be understood as (type, (1,)) / '(1,)type'.\n",
      "  _np_qint16 = np.dtype([(\"qint16\", np.int16, 1)])\n",
      "/home/raymond/anaconda3/lib/python3.7/site-packages/tensorboard/compat/tensorflow_stub/dtypes.py:544: FutureWarning: Passing (type, 1) or '1type' as a synonym of type is deprecated; in a future version of numpy, it will be understood as (type, (1,)) / '(1,)type'.\n",
      "  _np_quint16 = np.dtype([(\"quint16\", np.uint16, 1)])\n",
      "/home/raymond/anaconda3/lib/python3.7/site-packages/tensorboard/compat/tensorflow_stub/dtypes.py:545: FutureWarning: Passing (type, 1) or '1type' as a synonym of type is deprecated; in a future version of numpy, it will be understood as (type, (1,)) / '(1,)type'.\n",
      "  _np_qint32 = np.dtype([(\"qint32\", np.int32, 1)])\n",
      "/home/raymond/anaconda3/lib/python3.7/site-packages/tensorboard/compat/tensorflow_stub/dtypes.py:550: FutureWarning: Passing (type, 1) or '1type' as a synonym of type is deprecated; in a future version of numpy, it will be understood as (type, (1,)) / '(1,)type'.\n",
      "  np_resource = np.dtype([(\"resource\", np.ubyte, 1)])\n"
     ]
    }
   ],
   "source": [
    "from keras import layers\n",
    "from keras import models\n",
    "\n",
    "model = models.Sequential()\n",
    "model.add(layers.Conv2D(32, (3,3), activation='relu', input_shape=(150,150,3)))\n",
    "model.add(layers.MaxPooling2D((2,2)))\n",
    "model.add(layers.Conv2D(64, (3,3), activation='relu'))\n",
    "model.add(layers.MaxPooling2D((2,2)))\n",
    "model.add(layers.Conv2D(128, (3,3), activation='relu'))\n",
    "model.add(layers.MaxPooling2D((2,2)))\n",
    "model.add(layers.Conv2D(128, (3,3), activation='relu'))\n",
    "model.add(layers.MaxPooling2D((2,2)))\n",
    "model.add(layers.Flatten())\n",
    "model.add(layers.Dense(512, activation='relu'))\n",
    "model.add(layers.Dense(1, activation='sigmoid'))"
   ]
  },
  {
   "cell_type": "code",
   "execution_count": 3,
   "metadata": {},
   "outputs": [
    {
     "name": "stdout",
     "output_type": "stream",
     "text": [
      "Model: \"sequential_1\"\n",
      "_________________________________________________________________\n",
      "Layer (type)                 Output Shape              Param #   \n",
      "=================================================================\n",
      "conv2d_1 (Conv2D)            (None, 148, 148, 32)      896       \n",
      "_________________________________________________________________\n",
      "max_pooling2d_1 (MaxPooling2 (None, 74, 74, 32)        0         \n",
      "_________________________________________________________________\n",
      "conv2d_2 (Conv2D)            (None, 72, 72, 64)        18496     \n",
      "_________________________________________________________________\n",
      "max_pooling2d_2 (MaxPooling2 (None, 36, 36, 64)        0         \n",
      "_________________________________________________________________\n",
      "conv2d_3 (Conv2D)            (None, 34, 34, 128)       73856     \n",
      "_________________________________________________________________\n",
      "max_pooling2d_3 (MaxPooling2 (None, 17, 17, 128)       0         \n",
      "_________________________________________________________________\n",
      "conv2d_4 (Conv2D)            (None, 15, 15, 128)       147584    \n",
      "_________________________________________________________________\n",
      "max_pooling2d_4 (MaxPooling2 (None, 7, 7, 128)         0         \n",
      "_________________________________________________________________\n",
      "flatten_1 (Flatten)          (None, 6272)              0         \n",
      "_________________________________________________________________\n",
      "dense_1 (Dense)              (None, 512)               3211776   \n",
      "_________________________________________________________________\n",
      "dense_2 (Dense)              (None, 1)                 513       \n",
      "=================================================================\n",
      "Total params: 3,453,121\n",
      "Trainable params: 3,453,121\n",
      "Non-trainable params: 0\n",
      "_________________________________________________________________\n"
     ]
    }
   ],
   "source": [
    "model.summary()"
   ]
  },
  {
   "cell_type": "markdown",
   "metadata": {},
   "source": [
    "## Compile the model\n",
    "Binary_crossentropy is used since there are only two classes, and RMSprop is an optimizer that decreases large gradient steps and increases small steps in order to prevent problems such as exploding or vanishing gradients. Learning rate controls the rate in which the the gradient travels to the minima. Our metric for training will be accuracy. "
   ]
  },
  {
   "cell_type": "code",
   "execution_count": 4,
   "metadata": {},
   "outputs": [
    {
     "name": "stdout",
     "output_type": "stream",
     "text": [
      "WARNING:tensorflow:From /home/raymond/anaconda3/lib/python3.7/site-packages/tensorflow/python/ops/nn_impl.py:180: add_dispatch_support.<locals>.wrapper (from tensorflow.python.ops.array_ops) is deprecated and will be removed in a future version.\n",
      "Instructions for updating:\n",
      "Use tf.where in 2.0, which has the same broadcast rule as np.where\n"
     ]
    }
   ],
   "source": [
    "from keras import optimizers\n",
    "model.compile(loss='binary_crossentropy', optimizer=optimizers.RMSprop(lr=1e-4), metrics=['acc'])"
   ]
  },
  {
   "cell_type": "markdown",
   "metadata": {},
   "source": [
    "## Data Augmentation\n",
    "This is an important step to prevent overfitting. One of the methods to prevent overfitting includes having a larger dataset, however, the sample we are given is finite. However, we can artificially create more images by skewing, transforming or zooming into the images we have. This allows our model to train on more images in different types of perspectives. For example, a cat isn't going to pose in the same way in every single picture."
   ]
  },
  {
   "cell_type": "code",
   "execution_count": 5,
   "metadata": {},
   "outputs": [
    {
     "name": "stdout",
     "output_type": "stream",
     "text": [
      "Found 2000 images belonging to 2 classes.\n",
      "Found 1000 images belonging to 2 classes.\n"
     ]
    }
   ],
   "source": [
    "from keras.preprocessing.image import ImageDataGenerator\n",
    "\n",
    "# CNN tends to converge faster if pixel numbers are normalized between 0 and 1.\n",
    "train_datagen = ImageDataGenerator(rescale=1./255)\n",
    "test_datagen = ImageDataGenerator(rescale=1./255)\n",
    "\n",
    "# Create generator for data augmentation.\n",
    "train_generator = train_datagen.flow_from_directory(train_dir, target_size=(150,150), batch_size=20, class_mode='binary')\n",
    "validation_generator = test_datagen.flow_from_directory(validation_dir, target_size=(150,150), batch_size=20, class_mode='binary')"
   ]
  },
  {
   "cell_type": "code",
   "execution_count": 6,
   "metadata": {},
   "outputs": [
    {
     "name": "stdout",
     "output_type": "stream",
     "text": [
      "data batch shape: (20, 150, 150, 3)\n",
      "labels batch shape:  (20,)\n"
     ]
    }
   ],
   "source": [
    "for data_batch, labels_batch in train_generator:\n",
    "    print('data batch shape:', data_batch.shape)\n",
    "    print('labels batch shape: ', labels_batch.shape)\n",
    "    break"
   ]
  },
  {
   "cell_type": "markdown",
   "metadata": {},
   "source": [
    "# Train the model\n",
    "\n",
    "We train multiple models to see the effects of dropout and batch normalization.\n",
    "- Dropout prevents the model from learning off of a specific pattern by zeroing random neurons.\n",
    "- Batch normalization normalizes the inputs of a layer. \n",
    "\n",
    "\n",
    "Model 1 - Without dropout or batch normalization\n",
    "Model 2 - With Dropout\n",
    "Model 3 - With Batch normalization"
   ]
  },
  {
   "cell_type": "code",
   "execution_count": 7,
   "metadata": {},
   "outputs": [
    {
     "name": "stdout",
     "output_type": "stream",
     "text": [
      "WARNING:tensorflow:From /home/raymond/anaconda3/lib/python3.7/site-packages/keras/backend/tensorflow_backend.py:422: The name tf.global_variables is deprecated. Please use tf.compat.v1.global_variables instead.\n",
      "\n",
      "Epoch 1/30\n",
      "100/100 [==============================] - 11s 111ms/step - loss: 0.6920 - acc: 0.5315 - val_loss: 0.6658 - val_acc: 0.6140\n",
      "Epoch 2/30\n",
      "100/100 [==============================] - 10s 95ms/step - loss: 0.6627 - acc: 0.6085 - val_loss: 0.6680 - val_acc: 0.6360\n",
      "Epoch 3/30\n",
      "100/100 [==============================] - 9s 95ms/step - loss: 0.6261 - acc: 0.6485 - val_loss: 0.5859 - val_acc: 0.6600\n",
      "Epoch 4/30\n",
      "100/100 [==============================] - 9s 95ms/step - loss: 0.5771 - acc: 0.6950 - val_loss: 0.7807 - val_acc: 0.6680\n",
      "Epoch 5/30\n",
      "100/100 [==============================] - 9s 91ms/step - loss: 0.5403 - acc: 0.7265 - val_loss: 0.6476 - val_acc: 0.6440\n",
      "Epoch 6/30\n",
      "100/100 [==============================] - 9s 91ms/step - loss: 0.5130 - acc: 0.7465 - val_loss: 0.5218 - val_acc: 0.6420\n",
      "Epoch 7/30\n",
      "100/100 [==============================] - 9s 93ms/step - loss: 0.4879 - acc: 0.7650 - val_loss: 0.4738 - val_acc: 0.6920\n",
      "Epoch 8/30\n",
      "100/100 [==============================] - 9s 92ms/step - loss: 0.4645 - acc: 0.7880 - val_loss: 0.4849 - val_acc: 0.6430\n",
      "Epoch 9/30\n",
      "100/100 [==============================] - 9s 94ms/step - loss: 0.4400 - acc: 0.7960 - val_loss: 0.4943 - val_acc: 0.7110\n",
      "Epoch 10/30\n",
      "100/100 [==============================] - 9s 94ms/step - loss: 0.4046 - acc: 0.8130 - val_loss: 0.6339 - val_acc: 0.7090\n",
      "Epoch 11/30\n",
      "100/100 [==============================] - 9s 93ms/step - loss: 0.3818 - acc: 0.8315 - val_loss: 0.8156 - val_acc: 0.7110\n",
      "Epoch 12/30\n",
      "100/100 [==============================] - 9s 89ms/step - loss: 0.3503 - acc: 0.8535 - val_loss: 0.8087 - val_acc: 0.7100\n",
      "Epoch 13/30\n",
      "100/100 [==============================] - 9s 90ms/step - loss: 0.3414 - acc: 0.8455 - val_loss: 0.6288 - val_acc: 0.7180\n",
      "Epoch 14/30\n",
      "100/100 [==============================] - 9s 88ms/step - loss: 0.3088 - acc: 0.8735 - val_loss: 0.7302 - val_acc: 0.7260\n",
      "Epoch 15/30\n",
      "100/100 [==============================] - 9s 93ms/step - loss: 0.2850 - acc: 0.8870 - val_loss: 0.5568 - val_acc: 0.6690\n",
      "Epoch 16/30\n",
      "100/100 [==============================] - 9s 91ms/step - loss: 0.2577 - acc: 0.9015 - val_loss: 0.9969 - val_acc: 0.6940\n",
      "Epoch 17/30\n",
      "100/100 [==============================] - 9s 90ms/step - loss: 0.2345 - acc: 0.9105 - val_loss: 0.6500 - val_acc: 0.7190\n",
      "Epoch 18/30\n",
      "100/100 [==============================] - 9s 93ms/step - loss: 0.2185 - acc: 0.9175 - val_loss: 0.2167 - val_acc: 0.6950\n",
      "Epoch 19/30\n",
      "100/100 [==============================] - 9s 95ms/step - loss: 0.1970 - acc: 0.9250 - val_loss: 0.6390 - val_acc: 0.7120\n",
      "Epoch 20/30\n",
      "100/100 [==============================] - 10s 96ms/step - loss: 0.1756 - acc: 0.9365 - val_loss: 0.9143 - val_acc: 0.7070\n",
      "Epoch 21/30\n",
      "100/100 [==============================] - 10s 96ms/step - loss: 0.1546 - acc: 0.9495 - val_loss: 0.3901 - val_acc: 0.7130\n",
      "Epoch 22/30\n",
      "100/100 [==============================] - 9s 94ms/step - loss: 0.1380 - acc: 0.9475 - val_loss: 0.5009 - val_acc: 0.7210\n",
      "Epoch 23/30\n",
      "100/100 [==============================] - 10s 97ms/step - loss: 0.1181 - acc: 0.9595 - val_loss: 0.4198 - val_acc: 0.7110\n",
      "Epoch 24/30\n",
      "100/100 [==============================] - 9s 95ms/step - loss: 0.1039 - acc: 0.9630 - val_loss: 0.7904 - val_acc: 0.7000\n",
      "Epoch 25/30\n",
      "100/100 [==============================] - 9s 94ms/step - loss: 0.0895 - acc: 0.9715 - val_loss: 1.1702 - val_acc: 0.7120\n",
      "Epoch 26/30\n",
      "100/100 [==============================] - 10s 97ms/step - loss: 0.0808 - acc: 0.9740 - val_loss: 0.8943 - val_acc: 0.7060\n",
      "Epoch 27/30\n",
      "100/100 [==============================] - 9s 94ms/step - loss: 0.0640 - acc: 0.9800 - val_loss: 0.8444 - val_acc: 0.7030\n",
      "Epoch 28/30\n",
      "100/100 [==============================] - 9s 95ms/step - loss: 0.0600 - acc: 0.9780 - val_loss: 1.3780 - val_acc: 0.7160\n",
      "Epoch 29/30\n",
      "100/100 [==============================] - 10s 97ms/step - loss: 0.0520 - acc: 0.9850 - val_loss: 0.5915 - val_acc: 0.7030\n",
      "Epoch 30/30\n",
      "100/100 [==============================] - 9s 95ms/step - loss: 0.0442 - acc: 0.9875 - val_loss: 1.2117 - val_acc: 0.6930\n"
     ]
    }
   ],
   "source": [
    "history1 = model.fit_generator(train_generator, steps_per_epoch=100, epochs=30, validation_data=validation_generator, validation_steps=50)\n",
    "model.save('cats_and_dogs_small_1.h5')"
   ]
  },
  {
   "cell_type": "markdown",
   "metadata": {},
   "source": [
    "## Without Dropout and Batch Normalization"
   ]
  },
  {
   "cell_type": "code",
   "execution_count": 8,
   "metadata": {},
   "outputs": [
    {
     "data": {
      "text/plain": [
       "<Figure size 640x480 with 1 Axes>"
      ]
     },
     "metadata": {},
     "output_type": "display_data"
    },
    {
     "data": {
      "text/plain": [
       "<Figure size 640x480 with 1 Axes>"
      ]
     },
     "metadata": {},
     "output_type": "display_data"
    }
   ],
   "source": [
    "import matplotlib.pyplot as plt\n",
    "\n",
    "acc = history1.history['acc']\n",
    "val_acc = history1.history['val_acc']\n",
    "loss = history1.history['loss']\n",
    "val_loss = history1.history['val_loss']\n",
    "\n",
    "epochs = range(1, len(acc)+1)\n",
    "\n",
    "plt.plot(epochs, acc, 'bo', label='Training Acc')\n",
    "plt.plot(epochs, val_acc, 'b', label='Validation Acc')\n",
    "plt.title('Training and validation accuracy')\n",
    "plt.legend()\n",
    "plt.figure()\n",
    "\n",
    "plt.plot(epochs, loss, 'bo', label='Training loss')\n",
    "plt.plot(epochs, val_loss, 'b', label='Validation loss')\n",
    "plt.title('Training and validation loss')\n",
    "plt.legend()\n",
    "plt.show()"
   ]
  },
  {
   "cell_type": "code",
   "execution_count": 9,
   "metadata": {},
   "outputs": [],
   "source": [
    "\n",
    "model2 = models.Sequential()\n",
    "model2.add(layers.Conv2D(32, (3,3), activation='relu', input_shape=(150,150,3)))\n",
    "model2.add(layers.MaxPooling2D((2,2)))\n",
    "model2.add(layers.Dropout(.5))\n",
    "model2.add(layers.Conv2D(64, (3,3), activation='relu'))\n",
    "model2.add(layers.MaxPooling2D((2,2)))\n",
    "model2.add(layers.Dropout(.5))\n",
    "model2.add(layers.Conv2D(128, (3,3), activation='relu'))\n",
    "model2.add(layers.MaxPooling2D((2,2)))\n",
    "model2.add(layers.Dropout(.5))\n",
    "model2.add(layers.Conv2D(128, (3,3), activation='relu'))\n",
    "model2.add(layers.MaxPooling2D((2,2)))\n",
    "model2.add(layers.Flatten())\n",
    "model2.add(layers.Dense(512, activation='relu'))\n",
    "model2.add(layers.Dense(1, activation='sigmoid'))"
   ]
  },
  {
   "cell_type": "markdown",
   "metadata": {},
   "source": [
    "## With Dropout"
   ]
  },
  {
   "cell_type": "code",
   "execution_count": 10,
   "metadata": {},
   "outputs": [],
   "source": [
    "model2.compile(loss='binary_crossentropy', optimizer=optimizers.RMSprop(lr=1e-4), metrics=['acc'])"
   ]
  },
  {
   "cell_type": "code",
   "execution_count": 11,
   "metadata": {},
   "outputs": [
    {
     "name": "stdout",
     "output_type": "stream",
     "text": [
      "Epoch 1/30\n",
      "100/100 [==============================] - 11s 108ms/step - loss: 0.7617 - acc: 0.5270 - val_loss: 0.6927 - val_acc: 0.5040\n",
      "Epoch 2/30\n",
      "100/100 [==============================] - 11s 109ms/step - loss: 0.6951 - acc: 0.5260 - val_loss: 0.6913 - val_acc: 0.4920\n",
      "Epoch 3/30\n",
      "100/100 [==============================] - 10s 104ms/step - loss: 0.6903 - acc: 0.5305 - val_loss: 0.6946 - val_acc: 0.5020\n",
      "Epoch 4/30\n",
      "100/100 [==============================] - 10s 105ms/step - loss: 0.6918 - acc: 0.5265 - val_loss: 0.6906 - val_acc: 0.5000\n",
      "Epoch 5/30\n",
      "100/100 [==============================] - 10s 105ms/step - loss: 0.6857 - acc: 0.5420 - val_loss: 0.6958 - val_acc: 0.5000\n",
      "Epoch 6/30\n",
      "100/100 [==============================] - 10s 105ms/step - loss: 0.6866 - acc: 0.5450 - val_loss: 0.6900 - val_acc: 0.5000\n",
      "Epoch 7/30\n",
      "100/100 [==============================] - 10s 104ms/step - loss: 0.6815 - acc: 0.5645 - val_loss: 0.6921 - val_acc: 0.5000\n",
      "Epoch 8/30\n",
      "100/100 [==============================] - 11s 106ms/step - loss: 0.6793 - acc: 0.5570 - val_loss: 0.6874 - val_acc: 0.5060\n",
      "Epoch 9/30\n",
      "100/100 [==============================] - 11s 108ms/step - loss: 0.6767 - acc: 0.5730 - val_loss: 0.6917 - val_acc: 0.5000\n",
      "Epoch 10/30\n",
      "100/100 [==============================] - 11s 106ms/step - loss: 0.6701 - acc: 0.5825 - val_loss: 0.6808 - val_acc: 0.5010\n",
      "Epoch 11/30\n",
      "100/100 [==============================] - 11s 108ms/step - loss: 0.6672 - acc: 0.5775 - val_loss: 0.6827 - val_acc: 0.5160\n",
      "Epoch 12/30\n",
      "100/100 [==============================] - 11s 106ms/step - loss: 0.6565 - acc: 0.5990 - val_loss: 0.6875 - val_acc: 0.5320\n",
      "Epoch 13/30\n",
      "100/100 [==============================] - 11s 107ms/step - loss: 0.6460 - acc: 0.6215 - val_loss: 0.6988 - val_acc: 0.5730\n",
      "Epoch 14/30\n",
      "100/100 [==============================] - 11s 107ms/step - loss: 0.6311 - acc: 0.6355 - val_loss: 0.6922 - val_acc: 0.5850\n",
      "Epoch 15/30\n",
      "100/100 [==============================] - 11s 107ms/step - loss: 0.6181 - acc: 0.6475 - val_loss: 0.6787 - val_acc: 0.5970\n",
      "Epoch 16/30\n",
      "100/100 [==============================] - 11s 106ms/step - loss: 0.6063 - acc: 0.6550 - val_loss: 0.7004 - val_acc: 0.5940\n",
      "Epoch 17/30\n",
      "100/100 [==============================] - 11s 105ms/step - loss: 0.5928 - acc: 0.6715 - val_loss: 0.6420 - val_acc: 0.6160\n",
      "Epoch 18/30\n",
      "100/100 [==============================] - 11s 107ms/step - loss: 0.5918 - acc: 0.6795 - val_loss: 0.6312 - val_acc: 0.6220\n",
      "Epoch 19/30\n",
      "100/100 [==============================] - 11s 106ms/step - loss: 0.5771 - acc: 0.6785 - val_loss: 0.6403 - val_acc: 0.6280\n",
      "Epoch 20/30\n",
      "100/100 [==============================] - 11s 108ms/step - loss: 0.5693 - acc: 0.7055 - val_loss: 0.6686 - val_acc: 0.6490\n",
      "Epoch 21/30\n",
      "100/100 [==============================] - 10s 105ms/step - loss: 0.5639 - acc: 0.6990 - val_loss: 0.6716 - val_acc: 0.6220\n",
      "Epoch 22/30\n",
      "100/100 [==============================] - 11s 107ms/step - loss: 0.5511 - acc: 0.7020 - val_loss: 0.6802 - val_acc: 0.6170\n",
      "Epoch 23/30\n",
      "100/100 [==============================] - 11s 108ms/step - loss: 0.5478 - acc: 0.7105 - val_loss: 0.6571 - val_acc: 0.6190\n",
      "Epoch 24/30\n",
      "100/100 [==============================] - 11s 107ms/step - loss: 0.5387 - acc: 0.7270 - val_loss: 0.5671 - val_acc: 0.6530\n",
      "Epoch 25/30\n",
      "100/100 [==============================] - 11s 107ms/step - loss: 0.5228 - acc: 0.7365 - val_loss: 0.6465 - val_acc: 0.6510\n",
      "Epoch 26/30\n",
      "100/100 [==============================] - 11s 107ms/step - loss: 0.5195 - acc: 0.7260 - val_loss: 0.5853 - val_acc: 0.6490\n",
      "Epoch 27/30\n",
      "100/100 [==============================] - 11s 107ms/step - loss: 0.5080 - acc: 0.7425 - val_loss: 0.6087 - val_acc: 0.6400\n",
      "Epoch 28/30\n",
      "100/100 [==============================] - 11s 109ms/step - loss: 0.4928 - acc: 0.7615 - val_loss: 0.4776 - val_acc: 0.6160\n",
      "Epoch 29/30\n",
      "100/100 [==============================] - 11s 106ms/step - loss: 0.4959 - acc: 0.7545 - val_loss: 0.6039 - val_acc: 0.6260\n",
      "Epoch 30/30\n",
      "100/100 [==============================] - 11s 107ms/step - loss: 0.4791 - acc: 0.7625 - val_loss: 0.5781 - val_acc: 0.6440\n"
     ]
    }
   ],
   "source": [
    "history2 = model2.fit_generator(train_generator, steps_per_epoch=100, epochs=30, validation_data=validation_generator, validation_steps=50)\n",
    "model2.save('cats_and_dogs_small_2.h5')"
   ]
  },
  {
   "cell_type": "code",
   "execution_count": 12,
   "metadata": {},
   "outputs": [
    {
     "data": {
      "image/png": "[encoded data removed]",
      "text/plain": [
       "<Figure size 432x288 with 1 Axes>"
      ]
     },
     "metadata": {
      "needs_background": "light"
     },
     "output_type": "display_data"
    },
    {
     "data": {
      "image/png": "[encoded data removed]",
      "text/plain": [
       "<Figure size 432x288 with 1 Axes>"
      ]
     },
     "metadata": {
      "needs_background": "light"
     },
     "output_type": "display_data"
    }
   ],
   "source": [
    "\n",
    "acc = history2.history['acc']\n",
    "val_acc = history2.history['val_acc']\n",
    "loss = history2.history['loss']\n",
    "val_loss = history2.history['val_loss']\n",
    "\n",
    "epochs = range(1, len(acc)+1)\n",
    "\n",
    "plt.plot(epochs, acc, 'bo', label='Training Acc')\n",
    "plt.plot(epochs, val_acc, 'b', label='Validation Acc')\n",
    "plt.title('Training and validation accuracy')\n",
    "plt.legend()\n",
    "plt.figure()\n",
    "\n",
    "plt.plot(epochs, loss, 'bo', label='Training loss')\n",
    "plt.plot(epochs, val_loss, 'b', label='Validation loss')\n",
    "plt.title('Training and validation loss')\n",
    "plt.legend()\n",
    "plt.show()"
   ]
  },
  {
   "cell_type": "markdown",
   "metadata": {},
   "source": [
    "## With dropout and batch normalization"
   ]
  },
  {
   "cell_type": "code",
   "execution_count": 13,
   "metadata": {},
   "outputs": [],
   "source": [
    "from keras.layers.normalization import BatchNormalization\n",
    "model3 = models.Sequential()\n",
    "model3.add(layers.Conv2D(32, (3,3), activation='relu', input_shape=(150,150,3)))\n",
    "model3.add(layers.MaxPooling2D((2,2)))\n",
    "model3.add(layers.Dropout(.5))\n",
    "model3.add(BatchNormalization())\n",
    "model3.add(layers.Conv2D(64, (3,3), activation='relu'))\n",
    "model3.add(layers.MaxPooling2D((2,2)))\n",
    "model3.add(layers.Dropout(.5))\n",
    "model3.add(BatchNormalization())\n",
    "model3.add(layers.Conv2D(128, (3,3), activation='relu'))\n",
    "model3.add(layers.MaxPooling2D((2,2)))\n",
    "model3.add(layers.Dropout(.5))\n",
    "model3.add(BatchNormalization())\n",
    "model3.add(layers.Conv2D(128, (3,3), activation='relu'))\n",
    "model3.add(layers.MaxPooling2D((2,2)))\n",
    "model3.add(layers.Flatten())\n",
    "model3.add(layers.Dense(512, activation='relu'))\n",
    "model3.add(layers.Dense(1, activation='sigmoid'))"
   ]
  },
  {
   "cell_type": "code",
   "execution_count": 14,
   "metadata": {},
   "outputs": [],
   "source": [
    "model3.compile(loss='binary_crossentropy', optimizer=optimizers.RMSprop(lr=1e-4), metrics=['acc'])"
   ]
  },
  {
   "cell_type": "code",
   "execution_count": 15,
   "metadata": {},
   "outputs": [
    {
     "name": "stdout",
     "output_type": "stream",
     "text": [
      "Epoch 1/30\n",
      "100/100 [==============================] - 12s 124ms/step - loss: 1.1097 - acc: 0.5280 - val_loss: 0.6486 - val_acc: 0.5000\n",
      "Epoch 2/30\n",
      "100/100 [==============================] - 11s 111ms/step - loss: 0.7479 - acc: 0.5705 - val_loss: 0.7470 - val_acc: 0.5000\n",
      "Epoch 3/30\n",
      "100/100 [==============================] - 11s 111ms/step - loss: 0.7102 - acc: 0.5765 - val_loss: 0.8567 - val_acc: 0.5000\n",
      "Epoch 4/30\n",
      "100/100 [==============================] - 11s 111ms/step - loss: 0.6810 - acc: 0.5995 - val_loss: 1.1349 - val_acc: 0.5000\n",
      "Epoch 5/30\n",
      "100/100 [==============================] - 11s 114ms/step - loss: 0.6663 - acc: 0.6065 - val_loss: 0.8452 - val_acc: 0.5000\n",
      "Epoch 6/30\n",
      "100/100 [==============================] - 11s 112ms/step - loss: 0.6567 - acc: 0.6145 - val_loss: 0.9110 - val_acc: 0.5030\n",
      "Epoch 7/30\n",
      "100/100 [==============================] - 11s 112ms/step - loss: 0.6399 - acc: 0.6355 - val_loss: 0.7737 - val_acc: 0.5080\n",
      "Epoch 8/30\n",
      "100/100 [==============================] - 11s 112ms/step - loss: 0.6293 - acc: 0.6500 - val_loss: 1.0348 - val_acc: 0.5040\n",
      "Epoch 9/30\n",
      "100/100 [==============================] - 12s 115ms/step - loss: 0.6213 - acc: 0.6530 - val_loss: 1.1176 - val_acc: 0.5110\n",
      "Epoch 10/30\n",
      "100/100 [==============================] - 11s 115ms/step - loss: 0.5940 - acc: 0.6745 - val_loss: 1.5438 - val_acc: 0.5090\n",
      "Epoch 11/30\n",
      "100/100 [==============================] - 11s 114ms/step - loss: 0.5849 - acc: 0.6820 - val_loss: 1.5938 - val_acc: 0.5110\n",
      "Epoch 12/30\n",
      "100/100 [==============================] - 11s 113ms/step - loss: 0.5761 - acc: 0.6945 - val_loss: 1.0597 - val_acc: 0.5160\n",
      "Epoch 13/30\n",
      "100/100 [==============================] - 11s 115ms/step - loss: 0.5502 - acc: 0.7315 - val_loss: 1.6001 - val_acc: 0.5130\n",
      "Epoch 14/30\n",
      "100/100 [==============================] - 11s 114ms/step - loss: 0.5436 - acc: 0.7115 - val_loss: 1.6592 - val_acc: 0.5130\n",
      "Epoch 15/30\n",
      "100/100 [==============================] - 12s 116ms/step - loss: 0.5393 - acc: 0.7175 - val_loss: 1.2955 - val_acc: 0.5130\n",
      "Epoch 16/30\n",
      "100/100 [==============================] - 11s 113ms/step - loss: 0.5323 - acc: 0.7345 - val_loss: 1.7147 - val_acc: 0.5110\n",
      "Epoch 17/30\n",
      "100/100 [==============================] - 12s 117ms/step - loss: 0.5191 - acc: 0.7375 - val_loss: 1.9113 - val_acc: 0.5220\n",
      "Epoch 18/30\n",
      "100/100 [==============================] - 11s 112ms/step - loss: 0.4985 - acc: 0.7460 - val_loss: 1.4757 - val_acc: 0.5350\n",
      "Epoch 19/30\n",
      "100/100 [==============================] - 11s 111ms/step - loss: 0.5001 - acc: 0.7445 - val_loss: 2.0020 - val_acc: 0.5140\n",
      "Epoch 20/30\n",
      "100/100 [==============================] - 11s 112ms/step - loss: 0.4788 - acc: 0.7620 - val_loss: 1.1818 - val_acc: 0.5120\n",
      "Epoch 21/30\n",
      "100/100 [==============================] - 11s 112ms/step - loss: 0.4728 - acc: 0.7680 - val_loss: 2.3700 - val_acc: 0.5320\n",
      "Epoch 22/30\n",
      "100/100 [==============================] - 11s 113ms/step - loss: 0.4690 - acc: 0.7625 - val_loss: 1.8682 - val_acc: 0.5180\n",
      "Epoch 23/30\n",
      "100/100 [==============================] - 11s 112ms/step - loss: 0.4487 - acc: 0.7750 - val_loss: 1.4368 - val_acc: 0.5280\n",
      "Epoch 24/30\n",
      "100/100 [==============================] - 11s 112ms/step - loss: 0.4337 - acc: 0.7870 - val_loss: 1.4288 - val_acc: 0.5350\n",
      "Epoch 25/30\n",
      "100/100 [==============================] - 11s 115ms/step - loss: 0.4186 - acc: 0.8060 - val_loss: 3.5749 - val_acc: 0.5110\n",
      "Epoch 26/30\n",
      "100/100 [==============================] - 11s 113ms/step - loss: 0.4225 - acc: 0.7990 - val_loss: 2.3005 - val_acc: 0.5190\n",
      "Epoch 27/30\n",
      "100/100 [==============================] - 11s 114ms/step - loss: 0.4074 - acc: 0.8115 - val_loss: 1.2855 - val_acc: 0.5310\n",
      "Epoch 28/30\n",
      "100/100 [==============================] - 11s 115ms/step - loss: 0.3910 - acc: 0.8150 - val_loss: 1.9111 - val_acc: 0.5280\n",
      "Epoch 29/30\n",
      "100/100 [==============================] - 11s 113ms/step - loss: 0.3855 - acc: 0.8080 - val_loss: 1.7164 - val_acc: 0.5210\n",
      "Epoch 30/30\n",
      "100/100 [==============================] - 12s 115ms/step - loss: 0.3560 - acc: 0.8465 - val_loss: 1.9934 - val_acc: 0.5280\n"
     ]
    }
   ],
   "source": [
    "history3 = model3.fit_generator(train_generator, steps_per_epoch=100, epochs=30, validation_data=validation_generator, validation_steps=50)\n",
    "model3.save('cats_and_dogs_small_3.h5')"
   ]
  },
  {
   "cell_type": "code",
   "execution_count": 16,
   "metadata": {},
   "outputs": [
    {
     "data": {
      "image/png": "[encoded data removed]",
      "text/plain": [
       "<Figure size 432x288 with 1 Axes>"
      ]
     },
     "metadata": {
      "needs_background": "light"
     },
     "output_type": "display_data"
    },
    {
     "data": {
      "image/png": "[encoded data removed]",
      "text/plain": [
       "<Figure size 432x288 with 1 Axes>"
      ]
     },
     "metadata": {
      "needs_background": "light"
     },
     "output_type": "display_data"
    }
   ],
   "source": [
    "\n",
    "acc = history3.history['acc']\n",
    "val_acc = history3.history['val_acc']\n",
    "loss = history3.history['loss']\n",
    "val_loss = history3.history['val_loss']\n",
    "\n",
    "epochs = range(1, len(acc)+1)\n",
    "\n",
    "plt.plot(epochs, acc, 'bo', label='Training Acc')\n",
    "plt.plot(epochs, val_acc, 'b', label='Validation Acc')\n",
    "plt.title('Training and validation accuracy')\n",
    "plt.legend()\n",
    "plt.figure()\n",
    "\n",
    "plt.plot(epochs, loss, 'bo', label='Training loss')\n",
    "plt.plot(epochs, val_loss, 'b', label='Validation loss')\n",
    "plt.title('Training and validation loss')\n",
    "plt.legend()\n",
    "plt.show()"
   ]
  },
  {
   "cell_type": "markdown",
   "metadata": {},
   "source": [
    "## Conclusion\n",
    "In the end, batch normalization had a negative effect, and dropout had a lower validaiton accuracy. This could be that the dataset is pretty easy to distinguish in terms of the model's point of view. Perhaps an application that classifies x-rays for specific diseases would benefit from this.\n"
   ]
  },
  {
   "cell_type": "code",
   "execution_count": null,
   "metadata": {},
   "outputs": [],
   "source": []
  }
 ],
 "metadata": {
  "kernelspec": {
   "display_name": "Python 3",
   "language": "python",
   "name": "python3"
  },
  "language_info": {
   "codemirror_mode": {
    "name": "ipython",
    "version": 3
   },
   "file_extension": ".py",
   "mimetype": "text/x-python",
   "name": "python",
   "nbconvert_exporter": "python",
   "pygments_lexer": "ipython3",
   "version": "3.7.4"
  }
 },
 "nbformat": 4,
 "nbformat_minor": 2
}
